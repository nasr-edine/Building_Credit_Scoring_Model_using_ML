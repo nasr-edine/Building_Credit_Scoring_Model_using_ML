{
 "cells": [
  {
   "cell_type": "markdown",
   "id": "c534eb74-c48d-4b14-9606-9d0b9cdd104d",
   "metadata": {},
   "source": [
    "<div style=\"background-color: lightgray; padding: 10px; border-radius: 10px;\">\n",
    "  <h2 style=\"text-align: center; font-style: italic;\">The k-NN algorithm</h2>\n",
    "  <p>The k-NN algorithm is a supervised learning algorithm used for both classification and regression problems. It is a non-parametric method, which means that it makes no assumptions about the underlying distribution of the data.</p>\n",
    "  <p>In the case of classification, the algorithm works by finding the k nearest data points in the training dataset to the point for which we want to make a prediction. The \"k\" here represents the number of nearest neighbors that the algorithm will consider. Once the nearest neighbors have been identified, the prediction for the target point is made by majority vote, where the class that is most common among the nearest neighbors is assigned to the target point.</p>\n",
    "  <p>For example, if k=3, the algorithm will identify the 3 nearest data points in the training dataset and the target point will be assigned the class that appears most frequently among these 3 nearest neighbors. This is why the algorithm is called k-Nearest Neighbors.</p>\n",
    "  <p>In conclusion, the k-NN algorithm is a simple yet powerful algorithm that can be used for classification and regression problems. Its simplicity and versatility make it a popular choice for machine learning practitioners.</p>"
   ]
  },
  {
   "cell_type": "markdown",
   "id": "e537fb1a-da17-49c3-91a5-25df6653d6d4",
   "metadata": {
    "tags": []
   },
   "source": [
    "<div style=\"text-align:center;\">\n",
    "  <h1 style=\"display:inline-block;\">k-Nearest Neighbors Algorithm with 1 neighboor</h1>\n",
    "  <img src=\"../imgs/knn_algo_1_neighbor.png\" width=\"375\" height=\"250\" style=\"display:inline-block;\">\n",
    "</div>\n"
   ]
  },
  {
   "cell_type": "markdown",
   "id": "2cdda057-72df-4361-a944-5c68e2b4abbc",
   "metadata": {
    "tags": []
   },
   "source": [
    "<div style=\"text-align:center;\">\n",
    "  <h1 style=\"display:inline-block;\">k-Nearest Neighbors Algorithm with 3 neighboors</h1>\n",
    "  <img src=\"../imgs/knn_algo_3_neighbors.png\" width=\"375\" height=\"250\" style=\"display:inline-block;\">\n",
    "</div>\n"
   ]
  }
 ],
 "metadata": {
  "kernelspec": {
   "display_name": "Python 3 (ipykernel)",
   "language": "python",
   "name": "python3"
  },
  "language_info": {
   "codemirror_mode": {
    "name": "ipython",
    "version": 3
   },
   "file_extension": ".py",
   "mimetype": "text/x-python",
   "name": "python",
   "nbconvert_exporter": "python",
   "pygments_lexer": "ipython3",
   "version": "3.10.1"
  }
 },
 "nbformat": 4,
 "nbformat_minor": 5
}
