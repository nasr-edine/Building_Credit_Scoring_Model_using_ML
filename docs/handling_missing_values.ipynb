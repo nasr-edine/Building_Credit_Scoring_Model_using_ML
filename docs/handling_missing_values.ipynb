{
 "cells": [
  {
   "cell_type": "markdown",
   "id": "c534eb74-c48d-4b14-9606-9d0b9cdd104d",
   "metadata": {},
   "source": [
    "<div style=\"background-color: lightgray; padding: 10px; border-radius: 10px;\">\n",
    "  <h2 style=\"text-align: center; font-style: italic;\">Handling missing values</h2>\n",
    "</div>"
   ]
  },
  {
   "cell_type": "markdown",
   "id": "e537fb1a-da17-49c3-91a5-25df6653d6d4",
   "metadata": {
    "tags": []
   },
   "source": [
    "<div style=\"text-align:center;\">\n",
    "  <img src=\"../imgs/handling_missing_values.png\" width=\"644.53\" height=\"429.69\" style=\"display:inline-block;\">\n",
    "</div>\n"
   ]
  },
  {
   "cell_type": "markdown",
   "id": "ed5134f7-ac1a-4fab-b6f9-6e7bf55740d0",
   "metadata": {},
   "source": [
    "## References\n",
    "\n",
    "[1] PARUL PANDEY. [A Guide to Handling Missing values in Python](https://www.kaggle.com/code/parulpandey/a-guide-to-handling-missing-values-in-python/notebook), 2020."
   ]
  }
 ],
 "metadata": {
  "kernelspec": {
   "display_name": "Python 3 (ipykernel)",
   "language": "python",
   "name": "python3"
  },
  "language_info": {
   "codemirror_mode": {
    "name": "ipython",
    "version": 3
   },
   "file_extension": ".py",
   "mimetype": "text/x-python",
   "name": "python",
   "nbconvert_exporter": "python",
   "pygments_lexer": "ipython3",
   "version": "3.10.1"
  }
 },
 "nbformat": 4,
 "nbformat_minor": 5
}
