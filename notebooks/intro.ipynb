{
 "cells": [
  {
   "cell_type": "markdown",
   "id": "be166770-af9b-4f47-8e92-7be091d61a93",
   "metadata": {
    "tags": []
   },
   "source": [
    "# Developing a Loan Scoring Algorithm for \"Prêt à dépenser\""
   ]
  },
  {
   "cell_type": "markdown",
   "id": "a619d0a1-df78-4bb5-b6ab-fd477cec734d",
   "metadata": {},
   "source": [
    "### Notebook by [Nasr-edine DRAI](https://www.hackerrank.com/d_nasredine)\n",
    "\n"
   ]
  },
  {
   "cell_type": "markdown",
   "id": "34468764-3c15-41cd-b8fd-42bc095363ef",
   "metadata": {},
   "source": [
    "### [Openclassrooms](https://openclassrooms.com/en/)"
   ]
  },
  {
   "cell_type": "markdown",
   "id": "2cd60798-f9fb-46d4-bc41-6915366c9c3a",
   "metadata": {},
   "source": [
    "## Introduction\n",
    "\n",
    "In this project, you are a Data Scientist working at \"Prêt à dépenser\", a financial company that offers consumer credits to people with little or no loan history. The company wants to implement a credit scoring tool that calculates the probability of a customer repaying a loan and then classifies the loan application as approved or rejected. The goal is to develop a classification algorithm to help decide if a loan can be granted to a customer."
   ]
  },
  {
   "cell_type": "markdown",
   "id": "8d1ae284-3a21-4cfe-b25b-a48fc32c0331",
   "metadata": {},
   "source": [
    "## The problem domain\n",
    "\n",
    "The customer relationship managers will be the users of the scoring tool. As they interact with customers, they need your model to be easily interpretable. The relationship managers also want a measure of the importance of the variables that led the model to give a particular probability to a customer.\n",
    "\n",
    "<img src=\"../imgs/french_public_health_agency.png\" />"
   ]
  },
  {
   "cell_type": "markdown",
   "id": "576a649b-09c4-4628-a3c7-0577aea76e2c",
   "metadata": {},
   "source": [
    "## Verify Python Virtual Environments"
   ]
  },
  {
   "cell_type": "markdown",
   "id": "2a960dd7-23e6-4beb-9513-bfbfc0acf7b0",
   "metadata": {},
   "source": [
    "#### Check the Version of the Python Interpreter"
   ]
  },
  {
   "cell_type": "code",
   "execution_count": 1,
   "id": "c0e1f2c4-6b41-4723-9056-51dda36a3fb7",
   "metadata": {
    "tags": []
   },
   "outputs": [
    {
     "name": "stdout",
     "output_type": "stream",
     "text": [
      "Python 3.10.1\n"
     ]
    }
   ],
   "source": [
    "!python --version"
   ]
  },
  {
   "cell_type": "markdown",
   "id": "e4d0007c-abd4-41e1-9f73-105e4480cd12",
   "metadata": {},
   "source": [
    "#### Verify that I'm using the right virtual environment"
   ]
  },
  {
   "cell_type": "code",
   "execution_count": 2,
   "id": "740f39bd-e035-47a9-86da-0aa30f62bcdf",
   "metadata": {
    "tags": []
   },
   "outputs": [
    {
     "name": "stdout",
     "output_type": "stream",
     "text": [
      "pip 23.0 from /Users/drainasr-edine/github/ingenieur_ia/P4_drai_nasr-edine/.venv/lib/python3.10/site-packages/pip (python 3.10)\n"
     ]
    }
   ],
   "source": [
    "!pip -V"
   ]
  },
  {
   "cell_type": "markdown",
   "id": "39b78604-15eb-4b23-810f-1dd60eeb2c17",
   "metadata": {
    "tags": []
   },
   "source": [
    "#### Check Installed Modules in Python"
   ]
  },
  {
   "cell_type": "markdown",
   "id": "30ac5f2e-6f31-4a10-8d72-47d157105e24",
   "metadata": {},
   "source": [
    "Run through this notebook to make sure my environment is properly setup. Be sure to launch Jupyter from inside the virtual environment."
   ]
  },
  {
   "cell_type": "code",
   "execution_count": 3,
   "id": "b10e73c0-c6b2-4c02-82f4-4fdd78b63966",
   "metadata": {
    "tags": []
   },
   "outputs": [
    {
     "name": "stdout",
     "output_type": "stream",
     "text": [
      "/Users/drainasr-edine/github/ingenieur_ia/P4_drai_nasr-edine\n"
     ]
    }
   ],
   "source": [
    "import os, sys\n",
    "\n",
    "parent = os.path.abspath('..')\n",
    "sys.path.insert(1, parent)\n",
    "print(parent)"
   ]
  },
  {
   "cell_type": "code",
   "execution_count": 4,
   "id": "06502b4d-cc5a-4681-9a93-576e632b138c",
   "metadata": {
    "tags": []
   },
   "outputs": [],
   "source": [
    "from src.check_environment import run_checks"
   ]
  },
  {
   "cell_type": "markdown",
   "id": "7b5efc0e-0fe9-4e0f-9d23-4bb5887ff2ce",
   "metadata": {},
   "source": [
    "This code allows me to import modules from the parent directory in my notebook"
   ]
  },
  {
   "cell_type": "code",
   "execution_count": 5,
   "id": "8c364e9f-aa63-40c5-96bc-f1310fe36be3",
   "metadata": {
    "tags": []
   },
   "outputs": [
    {
     "name": "stdout",
     "output_type": "stream",
     "text": [
      "Using Python in /Users/drainasr-edine/github/ingenieur_ia/P4_drai_nasr-edine/.venv:\n",
      "\u001b[42m[ OK ]\u001b[0m Python is version 3.10.1 (v3.10.1:2cd268a3a9, Dec  6 2021, 14:28:59) [Clang 13.0.0 (clang-1300.0.29.3)]\n",
      "\n",
      "\u001b[42m[ OK ]\u001b[0m jupyterlab\n",
      "\u001b[42m[ OK ]\u001b[0m jupyterlab_git\n",
      "\u001b[42m[ OK ]\u001b[0m matplotlib\n",
      "\u001b[42m[ OK ]\u001b[0m numpy\n",
      "\u001b[42m[ OK ]\u001b[0m pandas\n",
      "\u001b[42m[ OK ]\u001b[0m seaborn\n",
      "\u001b[42m[ OK ]\u001b[0m statsmodels\n",
      "\u001b[42m[ OK ]\u001b[0m plotly\n",
      "\u001b[42m[ OK ]\u001b[0m colorama\n",
      "\u001b[42m[ OK ]\u001b[0m sklearn\n",
      "\u001b[42m[ OK ]\u001b[0m missingno\n",
      "\u001b[42m[ OK ]\u001b[0m wordcloud\n"
     ]
    }
   ],
   "source": [
    "from src.check_environment import run_checks\n",
    "run_checks()"
   ]
  },
  {
   "cell_type": "markdown",
   "id": "d6a188d5-d7c3-49e4-a4fc-347522bf4671",
   "metadata": {},
   "source": [
    "## Import Python library for data science"
   ]
  },
  {
   "cell_type": "code",
   "execution_count": 2,
   "id": "53839cf3-3e35-4068-b830-2ae8a664697e",
   "metadata": {
    "tags": []
   },
   "outputs": [],
   "source": [
    "import os\n",
    "\n",
    "# NumPy library for numerical computing\n",
    "import numpy as np\n",
    "\n",
    "# Import the statsmodels library for statistical analysis and modeling\n",
    "import statsmodels.api as sm\n",
    "\n",
    "# Pandas library for data manipulation and analysis\n",
    "import pandas as pd\n",
    "\n",
    "# Matplotlib library for data visualization\n",
    "import matplotlib.pyplot as plt\n",
    "\n",
    "# Seaborn library for data visualization based on Matplotlib\n",
    "import seaborn as sns\n",
    "\n",
    "# Scikit-Learn library for machine learning\n",
    "# import sklearn\n",
    "\n",
    "# Tensorflow library for building and training machine learning models\n",
    "# import tensorflow as tf\n",
    "\n",
    "# Wordcloud library for generating word clouds from text data\n",
    "# from wordcloud import WordCloud"
   ]
  },
  {
   "cell_type": "markdown",
   "id": "a8e7e9da-6fc5-4aa7-8e84-40c7fad715b8",
   "metadata": {},
   "source": [
    "### Display CSV Files with Their Sizes in a Pandas DataFrame"
   ]
  },
  {
   "cell_type": "code",
   "execution_count": 3,
   "id": "b8c51001-e7d0-4aeb-82c0-dde373de3eda",
   "metadata": {
    "tags": []
   },
   "outputs": [
    {
     "data": {
      "text/plain": [
       "['application_test.csv',\n",
       " 'Projet+Mise+en+prod+-+home-credit-default-risk',\n",
       " 'HomeCredit_columns_description.csv',\n",
       " 'POS_CASH_balance.csv',\n",
       " 'credit_card_balance.csv',\n",
       " 'installments_payments.csv',\n",
       " 'application_train.csv',\n",
       " 'bureau.csv',\n",
       " '.ipynb_checkpoints',\n",
       " 'previous_application.csv',\n",
       " 'bureau_balance.csv',\n",
       " 'sample_submission.csv']"
      ]
     },
     "execution_count": 3,
     "metadata": {},
     "output_type": "execute_result"
    }
   ],
   "source": [
    "os.listdir('../data')"
   ]
  },
  {
   "cell_type": "code",
   "execution_count": 4,
   "id": "cd20150e-edd9-4dfb-873a-73f25956cb0b",
   "metadata": {
    "tags": []
   },
   "outputs": [
    {
     "data": {
      "text/html": [
       "<div>\n",
       "<style scoped>\n",
       "    .dataframe tbody tr th:only-of-type {\n",
       "        vertical-align: middle;\n",
       "    }\n",
       "\n",
       "    .dataframe tbody tr th {\n",
       "        vertical-align: top;\n",
       "    }\n",
       "\n",
       "    .dataframe thead th {\n",
       "        text-align: right;\n",
       "    }\n",
       "</style>\n",
       "<table border=\"1\" class=\"dataframe\">\n",
       "  <thead>\n",
       "    <tr style=\"text-align: right;\">\n",
       "      <th></th>\n",
       "      <th>Name</th>\n",
       "      <th>Size (MB)</th>\n",
       "    </tr>\n",
       "  </thead>\n",
       "  <tbody>\n",
       "    <tr>\n",
       "      <th>1</th>\n",
       "      <td>HomeCredit_columns_description.csv</td>\n",
       "      <td>0.037383</td>\n",
       "    </tr>\n",
       "    <tr>\n",
       "      <th>9</th>\n",
       "      <td>sample_submission.csv</td>\n",
       "      <td>0.536202</td>\n",
       "    </tr>\n",
       "    <tr>\n",
       "      <th>0</th>\n",
       "      <td>application_test.csv</td>\n",
       "      <td>26.567651</td>\n",
       "    </tr>\n",
       "    <tr>\n",
       "      <th>5</th>\n",
       "      <td>application_train.csv</td>\n",
       "      <td>166.133370</td>\n",
       "    </tr>\n",
       "    <tr>\n",
       "      <th>6</th>\n",
       "      <td>bureau.csv</td>\n",
       "      <td>170.016717</td>\n",
       "    </tr>\n",
       "    <tr>\n",
       "      <th>8</th>\n",
       "      <td>bureau_balance.csv</td>\n",
       "      <td>375.592889</td>\n",
       "    </tr>\n",
       "    <tr>\n",
       "      <th>2</th>\n",
       "      <td>POS_CASH_balance.csv</td>\n",
       "      <td>392.703158</td>\n",
       "    </tr>\n",
       "    <tr>\n",
       "      <th>7</th>\n",
       "      <td>previous_application.csv</td>\n",
       "      <td>404.973293</td>\n",
       "    </tr>\n",
       "    <tr>\n",
       "      <th>3</th>\n",
       "      <td>credit_card_balance.csv</td>\n",
       "      <td>424.582605</td>\n",
       "    </tr>\n",
       "    <tr>\n",
       "      <th>4</th>\n",
       "      <td>installments_payments.csv</td>\n",
       "      <td>723.118349</td>\n",
       "    </tr>\n",
       "  </tbody>\n",
       "</table>\n",
       "</div>"
      ],
      "text/plain": [
       "                                 Name   Size (MB)\n",
       "1  HomeCredit_columns_description.csv    0.037383\n",
       "9               sample_submission.csv    0.536202\n",
       "0                application_test.csv   26.567651\n",
       "5               application_train.csv  166.133370\n",
       "6                          bureau.csv  170.016717\n",
       "8                  bureau_balance.csv  375.592889\n",
       "2                POS_CASH_balance.csv  392.703158\n",
       "7            previous_application.csv  404.973293\n",
       "3             credit_card_balance.csv  424.582605\n",
       "4           installments_payments.csv  723.118349"
      ]
     },
     "execution_count": 4,
     "metadata": {},
     "output_type": "execute_result"
    }
   ],
   "source": [
    "\n",
    "folder_path = '../data'\n",
    "file_list = os.listdir(folder_path)\n",
    "\n",
    "file_details = []\n",
    "for file_name in file_list:\n",
    "    if file_name.endswith(\".csv\"):\n",
    "        file_path = os.path.join(folder_path, file_name)\n",
    "        file_size = os.path.getsize(file_path)\n",
    "        file_details.append([file_name, file_size/10**6])\n",
    "\n",
    "df_csv_files = pd.DataFrame(file_details, columns=[\"Name\", \"Size (MB)\"])\n",
    "df_csv_files.sort_values(\"Size (MB)\", axis=0, ascending=True, inplace=True)\n",
    "df_csv_files\n"
   ]
  },
  {
   "cell_type": "code",
   "execution_count": 5,
   "id": "56dd78df-089d-48da-8445-f867247a99ac",
   "metadata": {
    "tags": []
   },
   "outputs": [
    {
     "data": {
      "image/png": "[encoded data removed]",
      "text/plain": [
       "<Figure size 640x480 with 1 Axes>"
      ]
     },
     "metadata": {},
     "output_type": "display_data"
    }
   ],
   "source": [
    "sizes = df_csv_files['Size (MB)'].tolist()\n",
    "labels = df_csv_files['Name'].tolist()\n",
    "\n",
    "fig1, ax1 = plt.subplots()\n",
    "ax1.pie(sizes, labels=labels, autopct='%1.1f%%', shadow=True)\n",
    "ax1.axis('equal')\n",
    "\n",
    "plt.show()\n"
   ]
  },
  {
   "cell_type": "markdown",
   "id": "da0cabab-3979-47d0-89db-e3b433f3c26c",
   "metadata": {},
   "source": [
    "## Data collection"
   ]
  },
  {
   "cell_type": "markdown",
   "id": "f44a15e7-78c8-4e80-9ad5-af4b17aaf468",
   "metadata": {},
   "source": [
    "### Importing and Previewing CSV Data Files with Pandas"
   ]
  },
  {
   "cell_type": "code",
   "execution_count": 9,
   "id": "7c2ff3ab-94a4-4265-8169-fb7653d8d0b2",
   "metadata": {
    "tags": []
   },
   "outputs": [],
   "source": [
    "# header = [\"Table\", \"Row\", \"Description\", \"Special\",]\n",
    "\n",
    "# df_homeCredit_columns_description = pd.read_csv(\"../data/HomeCredit_columns_description.csv\", skiprows=1, names=header, index_col=0, encoding = 'unicode_escape')\n",
    "# df_homeCredit_columns_description.head()"
   ]
  },
  {
   "cell_type": "code",
   "execution_count": 10,
   "id": "92878d5b-e889-4af2-9348-7c12d092e9da",
   "metadata": {
    "tags": []
   },
   "outputs": [],
   "source": [
    "# Import sample_submission.csv\n",
    "# df_sample_submission = pd.read_csv(\"../data/sample_submission.csv\", sep=',')\n",
    "# df_sample_submission.head()"
   ]
  },
  {
   "cell_type": "code",
   "execution_count": 11,
   "id": "dd2d4da7-2487-431f-ac6a-4eeedae28957",
   "metadata": {
    "tags": []
   },
   "outputs": [],
   "source": [
    "# Import application_test.csv\n",
    "# df_application_test = pd.read_csv(\"../data/application_test.csv\", sep=',')\n",
    "# df_application_test.head()"
   ]
  },
  {
   "cell_type": "code",
   "execution_count": 12,
   "id": "b582fdca-4f1e-4b00-8fa0-65a679184e0c",
   "metadata": {
    "tags": []
   },
   "outputs": [],
   "source": [
    "# Import application_train.csv\n",
    "# df_application_train = pd.read_csv(\"../data/application_train.csv\", sep=',')\n",
    "# df_application_train.head()"
   ]
  },
  {
   "cell_type": "code",
   "execution_count": 13,
   "id": "7caff50d-cacb-4c75-9920-812560e137ce",
   "metadata": {
    "tags": []
   },
   "outputs": [],
   "source": [
    "# Import bureau.csv\n",
    "# df_bureau = pd.read_csv(\"../data/bureau.csv\", sep=',')\n",
    "# df_bureau.head()"
   ]
  },
  {
   "cell_type": "code",
   "execution_count": 14,
   "id": "5adbd0f6-e06a-4a8b-8b8b-97821427f96b",
   "metadata": {
    "tags": []
   },
   "outputs": [],
   "source": [
    "# Import bureau_balance.csv\n",
    "# df_bureau_balance = pd.read_csv(\"../data/bureau_balance.csv\", sep=',')\n",
    "# df_bureau_balance.head()"
   ]
  },
  {
   "cell_type": "code",
   "execution_count": 15,
   "id": "d0860660-f491-45b8-8907-901bb91b7ba6",
   "metadata": {
    "tags": []
   },
   "outputs": [],
   "source": [
    "# Import POS_CASH_balance.csv\n",
    "# df_POS_CASH_balance = pd.read_csv(\"../data/POS_CASH_balance.csv\", sep=',')\n",
    "# df_POS_CASH_balance.head()"
   ]
  },
  {
   "cell_type": "code",
   "execution_count": 16,
   "id": "ad2e1a2f-e759-4bae-bb92-80db507a058d",
   "metadata": {
    "tags": []
   },
   "outputs": [],
   "source": [
    "# Import previous_application.csv\n",
    "# df_previous_application = pd.read_csv(\"../data/previous_application.csv\", sep=',')\n",
    "# df_previous_application.head()"
   ]
  },
  {
   "cell_type": "code",
   "execution_count": 17,
   "id": "28c554a7-feb5-47e4-9ac3-0ae3d5383e3e",
   "metadata": {
    "tags": []
   },
   "outputs": [],
   "source": [
    "# Import credit_card_balance.csv\n",
    "# df_credit_card_balance = pd.read_csv(\"../data/credit_card_balance.csv\", sep=',')\n",
    "# df_credit_card_balance.head()"
   ]
  },
  {
   "cell_type": "code",
   "execution_count": 18,
   "id": "ec8a9eef-1ea9-4a33-be39-98be7523be6e",
   "metadata": {
    "tags": []
   },
   "outputs": [],
   "source": [
    "# Import installments_payments.csv\n",
    "# df_installments_payments = pd.read_csv(\"../data/installments_payments.csv\", sep=',')\n",
    "# df_installments_payments.head()"
   ]
  }
 ],
 "metadata": {
  "kernelspec": {
   "display_name": "Python 3 (ipykernel)",
   "language": "python",
   "name": "python3"
  },
  "language_info": {
   "codemirror_mode": {
    "name": "ipython",
    "version": 3
   },
   "file_extension": ".py",
   "mimetype": "text/x-python",
   "name": "python",
   "nbconvert_exporter": "python",
   "pygments_lexer": "ipython3",
   "version": "3.10.1"
  }
 },
 "nbformat": 4,
 "nbformat_minor": 5
}
